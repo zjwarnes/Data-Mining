{
 "cells": [
  {
   "cell_type": "code",
   "execution_count": null,
   "metadata": {},
   "outputs": [],
   "source": [
    "import pandas as pd\n",
    "import re\n",
    "from typing import List\n",
    "\n",
    "# File only renamed, otherwise not modified\n",
    "# Currently only set up to handled Android extract\n",
    "FILE_NAME = 'AI-DSDM-Chat-2019_08_29-2020-12-16.txt'"
   ]
  },
  {
   "cell_type": "code",
   "execution_count": null,
   "metadata": {},
   "outputs": [],
   "source": [
    "def read_raw_data(file_name:str, \n",
    "                  encoding:str='utf-8'):\n",
    "    \"\"\"\n",
    "    Open file and Read Raw Data\n",
    "\n",
    "    \"\"\"\n",
    "    with open(FILE_NAME, encoding=\"utf-8\") as f:\n",
    "        content = f.read()\n",
    "    f.close()\n",
    "    return content\n",
    "    \n",
    "    \n",
    "def clean_WhatsApp_Android_Extract(extract_content:str, max_username_length:int=25) -> pd.DataFrame:\n",
    "    \"\"\"\n",
    "    Cleans WhatsApp Android extract and place into dataframe\n",
    "    \n",
    "    Parameters:\n",
    "    \n",
    "    extract_content: str\n",
    "        A str containing all the WhatsApp Messages from an Android Extract\n",
    "    max_username_length: int, Default = 25\n",
    "        Limit the usernames in length, this removes messages regarding people being added or removed from\n",
    "        the group chat. May remove too many lines if contact names are longer than this value.\n",
    "    \"\"\"\n",
    "    \n",
    "    extract_content = re.sub(r\"\\t\", \" \", extract_content)\n",
    "    extract_content = re.sub(r\"\\n\", \" \", extract_content)\n",
    "    extract_content = re.sub(r\"(\\d{2}\\/\\d{2}\\/\\d{4}, \\d{2}:\\d{2}) \\- ([^:]+):\", r\"\\n\\1\\t\\2\\t\", extract_content)\n",
    "    extract_content = extract_content.split('\\n')\n",
    "    extract_content = [x.split('\\t') for x in extract_content]\n",
    "    \n",
    "    \n",
    "    df = pd.DataFrame(extract_content, columns = ['date', 'user', 'message'])\n",
    "    df['date'] = pd.to_datetime(df['date'])\n",
    "    df = df[df['message'].notnull()]\n",
    "    df = df[df['user'].str.len()<max_username_length]\n",
    "    \n",
    "    \n",
    "    df = df[df['date'].notnull()]\n",
    "    df['contains_media'] = False\n",
    "    df.loc[df['message'].str.contains('<Media omitted>'), 'contains_media'] = True\n",
    "    return df\n"
   ]
  },
  {
   "cell_type": "code",
   "execution_count": null,
   "metadata": {},
   "outputs": [],
   "source": [
    "df = clean_WhatsApp_Android_Extract(read_raw_data(FILE_NAME))"
   ]
  },
  {
   "cell_type": "code",
   "execution_count": null,
   "metadata": {},
   "outputs": [],
   "source": [
    "df.head()"
   ]
  },
  {
   "cell_type": "code",
   "execution_count": null,
   "metadata": {},
   "outputs": [],
   "source": []
  }
 ],
 "metadata": {
  "kernelspec": {
   "display_name": "Python 3.7.3 64-bit ('base': conda)",
   "language": "python",
   "name": "python37364bitbasecondab8e86b1c7af74f7db42523f379b12aae"
  },
  "language_info": {
   "codemirror_mode": {
    "name": "ipython",
    "version": 3
   },
   "file_extension": ".py",
   "mimetype": "text/x-python",
   "name": "python",
   "nbconvert_exporter": "python",
   "pygments_lexer": "ipython3",
   "version": "3.7.3"
  }
 },
 "nbformat": 4,
 "nbformat_minor": 4
}
