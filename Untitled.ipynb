{
 "cells": [
  {
   "cell_type": "code",
   "execution_count": 2,
   "metadata": {},
   "outputs": [
    {
     "name": "stdout",
     "output_type": "stream",
     "text": [
      "kpmg  ->  KPMG\n",
      "pwc  ->  PWC\n",
      "ey  ->  EY\n",
      "DELOITTE  ->  Deloitte\n",
      "Baker McKenzie  ->  Baker Mckenzie\n",
      "BELASTINGDIENST  ->  Belastingdienst\n"
     ]
    }
   ],
   "source": [
    "company_names = ['kpmg', 'pwc','ey','DELOITTE','Baker McKenzie', 'BELASTINGDIENST']\n",
    "\n",
    "\n",
    "def fix_casing(name):\n",
    "    \n",
    "    # When 'company_name' is an abbreviation\n",
    "    if name in ['kpmg', 'pwc','ey']:\n",
    "        capitalize_company_name = name.upper()\n",
    "    else:\n",
    "        capitalize_company_name=name.title()\n",
    "    \n",
    "    return capitalize_company_name\n",
    "\n",
    "\n",
    "for company_name in company_names:\n",
    "    # company name is an element in company_names ex. \"kpmg\"\n",
    "    print( company_name , ' -> ' , fix_casing(company_name))\n",
    "\n",
    "        "
   ]
  },
  {
   "cell_type": "code",
   "execution_count": null,
   "metadata": {},
   "outputs": [],
   "source": []
  }
 ],
 "metadata": {
  "kernelspec": {
   "display_name": "Python 3",
   "language": "python",
   "name": "python3"
  }
 },
 "nbformat": 4,
 "nbformat_minor": 2
}
