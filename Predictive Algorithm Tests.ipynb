{
 "cells": [
  {
   "cell_type": "code",
   "execution_count": 3,
   "metadata": {},
   "outputs": [
    {
     "name": "stdout",
     "output_type": "stream",
     "text": [
      "[[5.1 3.5 1.4 0.2]\n",
      " [4.9 3.  1.4 0.2]\n",
      " [4.7 3.2 1.3 0.2]\n",
      " [4.6 3.1 1.5 0.2]\n",
      " [5.  3.6 1.4 0.2]]\n",
      "[0 0 0 0 0]\n",
      "X shape (150, 4)\n",
      "Y shape (150,)\n",
      "0.04\n"
     ]
    }
   ],
   "source": [
    "from sklearn import datasets\n",
    "import pandas as pd\n",
    "import numpy as np\n",
    "from sklearn.naive_bayes import GaussianNB\n",
    "iris = datasets.load_iris()\n",
    "print(iris['data'][:5]) \n",
    "print(iris['target'][:5])\n",
    "print( \"X shape \" + str( iris.data.shape))\n",
    "print( \"Y shape \" + str( iris.target.shape))\n",
    "\n",
    "\n",
    "# We can supply our own priors with 'priors' = 'array-like'(nclasses,)\n",
    "# 'var_smoothing', portion of the largest variance of all features that is added to \n",
    "# variances for calculation stability\n",
    "gnb = GaussianNB()\n",
    "\n",
    "\n",
    "y_pred = gnb.fit(iris.data, iris.target).predict(iris.data)\n",
    "print( (iris.target != y_pred).sum() / iris.data.shape[0])"
   ]
  },
  {
   "cell_type": "code",
   "execution_count": 2,
   "metadata": {},
   "outputs": [
    {
     "name": "stdout",
     "output_type": "stream",
     "text": [
      "[[5.1 3.5 1.4 0.2]\n",
      " [4.9 3.  1.4 0.2]\n",
      " [4.7 3.2 1.3 0.2]\n",
      " [4.6 3.1 1.5 0.2]\n",
      " [5.  3.6 1.4 0.2]]\n",
      "[0 0 0 0 0]\n",
      "X shape (150, 4)\n",
      "Y shape (150,)\n",
      "0.006666666666666667\n"
     ]
    }
   ],
   "source": [
    "from sklearn import datasets\n",
    "import pandas as pd\n",
    "import numpy as np\n",
    "from sklearn import svm\n",
    "iris = datasets.load_iris()\n",
    "print(iris['data'][:5]) \n",
    "print(iris['target'][:5])\n",
    "print( \"X shape \" + str( iris.data.shape))\n",
    "print( \"Y shape \" + str( iris.target.shape))\n",
    "\n",
    "# SVC stands for support vector classifier\n",
    "# LinearSVC = Linear Support Vector Machine for Regression\n",
    "# SVR = Support Vector Machine for Rgression\n",
    "# Where gamma determines the margins of separation\n",
    "clf = svm.SVC(\n",
    "    C = 1.0,    # Penalty parameter C of error term\n",
    "    kernel = 'linear', # One of 'linear', 'poly',' rbf', 'sigmoid'\n",
    "    degree = 3, # Degree of polynomial if poly is used\n",
    "    gamma = 'scale', # coefficient for 'rbf', 'poly', and 'sigmoid'\n",
    "    # default is 'auto' which used 1/n_features, scale uses 1/(n*X.var)\n",
    "    coef0 = 0.0, # Independent term in kernel function 'poly' and 'sigmoid'\n",
    "    shrinking = True, # shrinking heuristic\n",
    "    probability = False, # enable probability estimates\n",
    "    tol = 1e-3, # Tolerance for stopping criterion\n",
    "    #cache_size, # Specify the size of the kernel cache\n",
    "    #class_weight, # When not given, set to n_samples/(n_classes * np.bincount(y))\n",
    "    max_iter = -1, # iterations with solver -1 = inf\n",
    "    decision_function_shape = 'ovo', # 'ovo' one vs one, 'ovr' one vs rest,\n",
    "    random_state = None # seed of sudo random number for probability estimates\n",
    ")\n",
    "\n",
    "\n",
    "clf.fit(iris.data, iris.target)\n",
    "svm_pred = clf.predict(iris.data)\n",
    "print( (iris.target != svm_pred).sum() / iris.data.shape[0])"
   ]
  },
  {
   "cell_type": "code",
   "execution_count": 3,
   "metadata": {},
   "outputs": [
    {
     "name": "stdout",
     "output_type": "stream",
     "text": [
      "[[5.1 3.5 1.4 0.2]\n",
      " [4.9 3.  1.4 0.2]\n",
      " [4.7 3.2 1.3 0.2]\n",
      " [4.6 3.1 1.5 0.2]\n",
      " [5.  3.6 1.4 0.2]]\n",
      "[0 0 0 0 0]\n",
      "X shape (150, 4)\n",
      "Y shape (150,)\n",
      "0.0\n"
     ]
    }
   ],
   "source": [
    "from sklearn import tree\n",
    "\n",
    "print(iris['data'][:5]) \n",
    "print(iris['target'][:5])\n",
    "print( \"X shape \" + str( iris.data.shape))\n",
    "print( \"Y shape \" + str( iris.target.shape))\n",
    "\n",
    "clf = tree.DecisionTreeClassifier(\n",
    "    criterion = 'entropy', # 'gini' for impurity and 'entropy' for information gain\n",
    "    splitter = 'best', # 'best' split, 'random' best-random split\n",
    "    max_depth = None, # max depth of the tree, if None then \n",
    "    # nodes expand until all leaves are pure or until all leaves have less\n",
    "    # than min_samples_split\n",
    "    min_samples_split = 2, # min number to split an internal node\n",
    "    min_samples_leaf = 1, # min number of samples in a leaf node\n",
    "    min_weight_fraction_leaf = 0, # minimum weighted fraction of sum of weights\n",
    "    max_features = None, # number of features to look at for best split\n",
    "    # usually max_features but can be sqrt(n_features) or log2(n_features)\n",
    "    random_state = None, # seed used by random number generator\n",
    "    max_leaf_nodes = None, # relative reduction in impurity, tries to limit leafs\n",
    "    min_impurity_decrease = 0, # Split if equal or greater than this value\n",
    "    class_weight = None, # weights in a dict{'class': value} for each class\n",
    "    presort = False # for smaller datasets and restricted depth can speed up training, otherwise leave false\n",
    ")\n",
    "\n",
    "\n",
    "\n",
    "clf.fit(iris.data, iris.target)\n",
    "tree_pred = clf.predict(iris.data)\n",
    "print( (iris.target != tree_pred).sum() / iris.data.shape[0])\n",
    "#tree.plot_tree(clf.fit(iris.data, iris.target))"
   ]
  },
  {
   "cell_type": "code",
   "execution_count": 4,
   "metadata": {},
   "outputs": [
    {
     "name": "stdout",
     "output_type": "stream",
     "text": [
      "[[5.1 3.5 1.4 0.2]\n",
      " [4.9 3.  1.4 0.2]\n",
      " [4.7 3.2 1.3 0.2]\n",
      " [4.6 3.1 1.5 0.2]\n",
      " [5.  3.6 1.4 0.2]]\n",
      "[0 0 0 0 0]\n",
      "X shape (150, 4)\n",
      "Y shape (150,)\n"
     ]
    },
    {
     "name": "stderr",
     "output_type": "stream",
     "text": [
      "C:\\Users\\zjwar\\Anaconda3\\lib\\site-packages\\sklearn\\linear_model\\logistic.py:947: ConvergenceWarning: lbfgs failed to converge. Increase the number of iterations.\n",
      "  \"of iterations.\", ConvergenceWarning)\n"
     ]
    },
    {
     "data": {
      "text/plain": [
       "0.9733333333333334"
      ]
     },
     "execution_count": 4,
     "metadata": {},
     "output_type": "execute_result"
    }
   ],
   "source": [
    "from sklearn import datasets\n",
    "import pandas as pd\n",
    "import numpy as np\n",
    "from sklearn.linear_model import LogisticRegression\n",
    "X, y = datasets.load_iris(return_X_y = True)\n",
    "iris = datasets.load_iris()\n",
    "print(iris['data'][:5]) \n",
    "print(iris['target'][:5])\n",
    "print( \"X shape \" + str( iris.data.shape))\n",
    "print( \"Y shape \" + str( iris.target.shape))\n",
    "\n",
    "clf = LogisticRegression(\n",
    "    penalty = 'l2', # norm used, 'l1', 'elasticnet', 'none'\n",
    "    dual = False, # dual or primal formulation, dual preferred when n_samples > n_features\n",
    "    tol = 1e-4, # tolerance for stopping criteria\n",
    "    C = 1.0, # inverse of regularization strength, small specify \n",
    "    fit_intercept = True, # Specifies if a constant should be added to the decision function\n",
    "    class_weight = None, # weight specific classes, else all 1\n",
    "    random_state = 0,  # generator to use when shuffling data\n",
    "    solver = 'lbfgs', # 'newton-cg', 'lbfgs', 'sag', 'saga', 'liblinear'\n",
    "    max_iter = 100, # Maximum number of iterations for solvers to converge\n",
    "    multi_class = 'multinomial', # 'ovr' one vs rest, 'auto', 'multinomial'\n",
    "    verbose = 0, # set verbose to any positive number for verbosity\n",
    "    warm_start = False, # reuse the solution to previous call\n",
    "    n_jobs = None, # Number of Cores to parallelize over with 'ovr'\n",
    "    l1_ratio = None # only when penalty = 'elasticnet', \n",
    ").fit(X, y)\n",
    "log_pred = clf.predict(X)\n",
    "clf.score(X,y)"
   ]
  },
  {
   "cell_type": "code",
   "execution_count": 11,
   "metadata": {},
   "outputs": [],
   "source": [
    "import plotly.graph_objects as go\n",
    "import plotly.express as px\n",
    "from plotly import subplots\n",
    "import numpy as np\n",
    "from sklearn.model_selection import train_test_split, cross_val_score, learning_curve, cross_val_predict\n",
    "\n",
    "def plot_learning_curve(estimator, X, y, colnum, cv=None, n_jobs=1, train_sizes=np.linspace(.1, 1.0, 5),):\n",
    "    train_sizes, train_scores, test_scores = learning_curve(\n",
    "        estimator, X, y, cv=cv, n_jobs=n_jobs, train_sizes=train_sizes)\n",
    "    train_scores_mean = np.mean(train_scores, axis=1)\n",
    "    train_scores_std = np.std(train_scores, axis=1)\n",
    "    test_scores_mean = np.mean(test_scores, axis=1)\n",
    "    test_scores_std = np.std(test_scores, axis=1)\n",
    "    \n",
    "    if(colnum==1):\n",
    "        leg=True\n",
    "    else:\n",
    "        leg=False\n",
    "        \n",
    "    p1 = go.Scatter(x=train_sizes, y=test_scores_mean + test_scores_std,\n",
    "                    mode='lines',\n",
    "                    line=dict(color=\"green\", width=1),\n",
    "                    showlegend=False,  )\n",
    "    fig.append_trace(p1, 1, colnum)\n",
    "    \n",
    "    p2 = go.Scatter(x=train_sizes, y=test_scores_mean - test_scores_std,\n",
    "                    mode='lines',\n",
    "                    line=dict(color=\"green\", width=1),\n",
    "                    showlegend=False, fill='tonexty')\n",
    "    fig.append_trace(p2, 1, colnum)\n",
    "    \n",
    "    p3 = go.Scatter(x=train_sizes, y=train_scores_mean + train_scores_std,\n",
    "                    mode='lines',\n",
    "                    line=dict(color=\"red\", width=1),\n",
    "                    showlegend=False)\n",
    "    fig.append_trace(p3, 1, colnum)\n",
    "    \n",
    "    p4 = go.Scatter(x=train_sizes, y=train_scores_mean - train_scores_std,\n",
    "                    mode='lines',\n",
    "                    line=dict(color=\"red\", width=1),\n",
    "                    showlegend=False, fill='tonexty')\n",
    "    fig.append_trace(p4, 1, colnum)\n",
    "    \n",
    "    p5 = go.Scatter(x=train_sizes, y=train_scores_mean, \n",
    "                    marker=dict(color='red'),\n",
    "                    name=\"Training score\", showlegend=leg)\n",
    "    fig.append_trace(p5, 1, colnum)\n",
    "    \n",
    "    p6 = go.Scatter(x=train_sizes, y=test_scores_mean, \n",
    "                    marker=dict(color='green'),\n",
    "                    name=\"Cross-validation score\", showlegend=leg)\n",
    "    fig.append_trace(p6, 1, colnum)\n",
    "    fig.update_layout(\n",
    "        title = go.layout.Title(\n",
    "            text = 'Learning Curve'),\n",
    "        xaxis = go.layout.XAxis(\n",
    "            title = go.layout.xaxis.Title(\n",
    "            text = \"Number of training instances\")),\n",
    "        yaxis = go.layout.YAxis(\n",
    "            title = go.layout.yaxis.Title(\n",
    "            text = \"Accuracy\"))\n",
    "        )"
   ]
  },
  {
   "cell_type": "code",
   "execution_count": null,
   "metadata": {},
   "outputs": [],
   "source": []
  },
  {
   "cell_type": "code",
   "execution_count": 21,
   "metadata": {},
   "outputs": [
    {
     "data": {
      "application/vnd.plotly.v1+json": {
       "config": {
        "plotlyServerURL": "https://plot.ly"
       },
       "data": [
        {
         "line": {
          "color": "green",
          "width": 1
         },
         "mode": "lines",
         "showlegend": false,
         "type": "scatter",
         "x": [
          13,
          43,
          74,
          104,
          135
         ],
         "xaxis": "x",
         "y": [
          0.3333333333333334,
          0.3333333333333334,
          0.6666666666666669,
          0.9698887651569861,
          1.0113880262166626
         ],
         "yaxis": "y"
        },
        {
         "fill": "tonexty",
         "line": {
          "color": "green",
          "width": 1
         },
         "mode": "lines",
         "showlegend": false,
         "type": "scatter",
         "x": [
          13,
          43,
          74,
          104,
          135
         ],
         "xaxis": "x",
         "y": [
          0.3333333333333333,
          0.3333333333333333,
          0.6666666666666666,
          0.8701112348430142,
          0.921945307116671
         ],
         "yaxis": "y"
        },
        {
         "line": {
          "color": "red",
          "width": 1
         },
         "mode": "lines",
         "showlegend": false,
         "type": "scatter",
         "x": [
          13,
          43,
          74,
          104,
          135
         ],
         "xaxis": "x",
         "y": [
          1,
          1,
          1,
          0.989810696382147,
          0.976146636274913
         ],
         "yaxis": "y"
        },
        {
         "fill": "tonexty",
         "line": {
          "color": "red",
          "width": 1
         },
         "mode": "lines",
         "showlegend": false,
         "type": "scatter",
         "x": [
          13,
          43,
          74,
          104,
          135
         ],
         "xaxis": "x",
         "y": [
          1,
          1,
          1,
          0.9774969959255454,
          0.9616311415028646
         ],
         "yaxis": "y"
        },
        {
         "marker": {
          "color": "red"
         },
         "name": "Training score",
         "showlegend": true,
         "type": "scatter",
         "x": [
          13,
          43,
          74,
          104,
          135
         ],
         "xaxis": "x",
         "y": [
          1,
          1,
          1,
          0.9836538461538462,
          0.9688888888888888
         ],
         "yaxis": "y"
        },
        {
         "marker": {
          "color": "green"
         },
         "name": "Cross-validation score",
         "showlegend": true,
         "type": "scatter",
         "x": [
          13,
          43,
          74,
          104,
          135
         ],
         "xaxis": "x",
         "y": [
          0.33333333333333337,
          0.33333333333333337,
          0.6666666666666667,
          0.9200000000000002,
          0.9666666666666668
         ],
         "yaxis": "y"
        },
        {
         "line": {
          "color": "green",
          "width": 1
         },
         "mode": "lines",
         "showlegend": false,
         "type": "scatter",
         "x": [
          13,
          43,
          74,
          104,
          135
         ],
         "xaxis": "x2",
         "y": [
          0.3333333333333334,
          0.3333333333333334,
          0.6666666666666669,
          0.9698887651569861,
          1.0113880262166626
         ],
         "yaxis": "y2"
        },
        {
         "fill": "tonexty",
         "line": {
          "color": "green",
          "width": 1
         },
         "mode": "lines",
         "showlegend": false,
         "type": "scatter",
         "x": [
          13,
          43,
          74,
          104,
          135
         ],
         "xaxis": "x2",
         "y": [
          0.3333333333333333,
          0.3333333333333333,
          0.6666666666666666,
          0.8701112348430142,
          0.921945307116671
         ],
         "yaxis": "y2"
        },
        {
         "line": {
          "color": "red",
          "width": 1
         },
         "mode": "lines",
         "showlegend": false,
         "type": "scatter",
         "x": [
          13,
          43,
          74,
          104,
          135
         ],
         "xaxis": "x2",
         "y": [
          1,
          1,
          1,
          0.989810696382147,
          0.976146636274913
         ],
         "yaxis": "y2"
        },
        {
         "fill": "tonexty",
         "line": {
          "color": "red",
          "width": 1
         },
         "mode": "lines",
         "showlegend": false,
         "type": "scatter",
         "x": [
          13,
          43,
          74,
          104,
          135
         ],
         "xaxis": "x2",
         "y": [
          1,
          1,
          1,
          0.9774969959255454,
          0.9616311415028646
         ],
         "yaxis": "y2"
        },
        {
         "marker": {
          "color": "red"
         },
         "name": "Training score",
         "showlegend": false,
         "type": "scatter",
         "x": [
          13,
          43,
          74,
          104,
          135
         ],
         "xaxis": "x2",
         "y": [
          1,
          1,
          1,
          0.9836538461538462,
          0.9688888888888888
         ],
         "yaxis": "y2"
        },
        {
         "marker": {
          "color": "green"
         },
         "name": "Cross-validation score",
         "showlegend": false,
         "type": "scatter",
         "x": [
          13,
          43,
          74,
          104,
          135
         ],
         "xaxis": "x2",
         "y": [
          0.33333333333333337,
          0.33333333333333337,
          0.6666666666666667,
          0.9200000000000002,
          0.9666666666666668
         ],
         "yaxis": "y2"
        }
       ],
       "layout": {
        "annotations": [
         {
          "font": {
           "size": 16
          },
          "showarrow": false,
          "text": "Learning Curves (Naive Bayes)",
          "x": 0.225,
          "xanchor": "center",
          "xref": "paper",
          "y": 1,
          "yanchor": "bottom",
          "yref": "paper"
         },
         {
          "font": {
           "size": 16
          },
          "showarrow": false,
          "text": "Learning Curves (SVM, RBF kernel, gamma=0.001)",
          "x": 0.775,
          "xanchor": "center",
          "xref": "paper",
          "y": 1,
          "yanchor": "bottom",
          "yref": "paper"
         }
        ],
        "hovermode": "closest",
        "template": {
         "data": {
          "bar": [
           {
            "error_x": {
             "color": "#2a3f5f"
            },
            "error_y": {
             "color": "#2a3f5f"
            },
            "marker": {
             "line": {
              "color": "#E5ECF6",
              "width": 0.5
             }
            },
            "type": "bar"
           }
          ],
          "barpolar": [
           {
            "marker": {
             "line": {
              "color": "#E5ECF6",
              "width": 0.5
             }
            },
            "type": "barpolar"
           }
          ],
          "carpet": [
           {
            "aaxis": {
             "endlinecolor": "#2a3f5f",
             "gridcolor": "white",
             "linecolor": "white",
             "minorgridcolor": "white",
             "startlinecolor": "#2a3f5f"
            },
            "baxis": {
             "endlinecolor": "#2a3f5f",
             "gridcolor": "white",
             "linecolor": "white",
             "minorgridcolor": "white",
             "startlinecolor": "#2a3f5f"
            },
            "type": "carpet"
           }
          ],
          "choropleth": [
           {
            "colorbar": {
             "outlinewidth": 0,
             "ticks": ""
            },
            "type": "choropleth"
           }
          ],
          "contour": [
           {
            "colorbar": {
             "outlinewidth": 0,
             "ticks": ""
            },
            "colorscale": [
             [
              0,
              "#0d0887"
             ],
             [
              0.1111111111111111,
              "#46039f"
             ],
             [
              0.2222222222222222,
              "#7201a8"
             ],
             [
              0.3333333333333333,
              "#9c179e"
             ],
             [
              0.4444444444444444,
              "#bd3786"
             ],
             [
              0.5555555555555556,
              "#d8576b"
             ],
             [
              0.6666666666666666,
              "#ed7953"
             ],
             [
              0.7777777777777778,
              "#fb9f3a"
             ],
             [
              0.8888888888888888,
              "#fdca26"
             ],
             [
              1,
              "#f0f921"
             ]
            ],
            "type": "contour"
           }
          ],
          "contourcarpet": [
           {
            "colorbar": {
             "outlinewidth": 0,
             "ticks": ""
            },
            "type": "contourcarpet"
           }
          ],
          "heatmap": [
           {
            "colorbar": {
             "outlinewidth": 0,
             "ticks": ""
            },
            "colorscale": [
             [
              0,
              "#0d0887"
             ],
             [
              0.1111111111111111,
              "#46039f"
             ],
             [
              0.2222222222222222,
              "#7201a8"
             ],
             [
              0.3333333333333333,
              "#9c179e"
             ],
             [
              0.4444444444444444,
              "#bd3786"
             ],
             [
              0.5555555555555556,
              "#d8576b"
             ],
             [
              0.6666666666666666,
              "#ed7953"
             ],
             [
              0.7777777777777778,
              "#fb9f3a"
             ],
             [
              0.8888888888888888,
              "#fdca26"
             ],
             [
              1,
              "#f0f921"
             ]
            ],
            "type": "heatmap"
           }
          ],
          "heatmapgl": [
           {
            "colorbar": {
             "outlinewidth": 0,
             "ticks": ""
            },
            "colorscale": [
             [
              0,
              "#0d0887"
             ],
             [
              0.1111111111111111,
              "#46039f"
             ],
             [
              0.2222222222222222,
              "#7201a8"
             ],
             [
              0.3333333333333333,
              "#9c179e"
             ],
             [
              0.4444444444444444,
              "#bd3786"
             ],
             [
              0.5555555555555556,
              "#d8576b"
             ],
             [
              0.6666666666666666,
              "#ed7953"
             ],
             [
              0.7777777777777778,
              "#fb9f3a"
             ],
             [
              0.8888888888888888,
              "#fdca26"
             ],
             [
              1,
              "#f0f921"
             ]
            ],
            "type": "heatmapgl"
           }
          ],
          "histogram": [
           {
            "marker": {
             "colorbar": {
              "outlinewidth": 0,
              "ticks": ""
             }
            },
            "type": "histogram"
           }
          ],
          "histogram2d": [
           {
            "colorbar": {
             "outlinewidth": 0,
             "ticks": ""
            },
            "colorscale": [
             [
              0,
              "#0d0887"
             ],
             [
              0.1111111111111111,
              "#46039f"
             ],
             [
              0.2222222222222222,
              "#7201a8"
             ],
             [
              0.3333333333333333,
              "#9c179e"
             ],
             [
              0.4444444444444444,
              "#bd3786"
             ],
             [
              0.5555555555555556,
              "#d8576b"
             ],
             [
              0.6666666666666666,
              "#ed7953"
             ],
             [
              0.7777777777777778,
              "#fb9f3a"
             ],
             [
              0.8888888888888888,
              "#fdca26"
             ],
             [
              1,
              "#f0f921"
             ]
            ],
            "type": "histogram2d"
           }
          ],
          "histogram2dcontour": [
           {
            "colorbar": {
             "outlinewidth": 0,
             "ticks": ""
            },
            "colorscale": [
             [
              0,
              "#0d0887"
             ],
             [
              0.1111111111111111,
              "#46039f"
             ],
             [
              0.2222222222222222,
              "#7201a8"
             ],
             [
              0.3333333333333333,
              "#9c179e"
             ],
             [
              0.4444444444444444,
              "#bd3786"
             ],
             [
              0.5555555555555556,
              "#d8576b"
             ],
             [
              0.6666666666666666,
              "#ed7953"
             ],
             [
              0.7777777777777778,
              "#fb9f3a"
             ],
             [
              0.8888888888888888,
              "#fdca26"
             ],
             [
              1,
              "#f0f921"
             ]
            ],
            "type": "histogram2dcontour"
           }
          ],
          "mesh3d": [
           {
            "colorbar": {
             "outlinewidth": 0,
             "ticks": ""
            },
            "type": "mesh3d"
           }
          ],
          "parcoords": [
           {
            "line": {
             "colorbar": {
              "outlinewidth": 0,
              "ticks": ""
             }
            },
            "type": "parcoords"
           }
          ],
          "scatter": [
           {
            "marker": {
             "colorbar": {
              "outlinewidth": 0,
              "ticks": ""
             }
            },
            "type": "scatter"
           }
          ],
          "scatter3d": [
           {
            "line": {
             "colorbar": {
              "outlinewidth": 0,
              "ticks": ""
             }
            },
            "marker": {
             "colorbar": {
              "outlinewidth": 0,
              "ticks": ""
             }
            },
            "type": "scatter3d"
           }
          ],
          "scattercarpet": [
           {
            "marker": {
             "colorbar": {
              "outlinewidth": 0,
              "ticks": ""
             }
            },
            "type": "scattercarpet"
           }
          ],
          "scattergeo": [
           {
            "marker": {
             "colorbar": {
              "outlinewidth": 0,
              "ticks": ""
             }
            },
            "type": "scattergeo"
           }
          ],
          "scattergl": [
           {
            "marker": {
             "colorbar": {
              "outlinewidth": 0,
              "ticks": ""
             }
            },
            "type": "scattergl"
           }
          ],
          "scattermapbox": [
           {
            "marker": {
             "colorbar": {
              "outlinewidth": 0,
              "ticks": ""
             }
            },
            "type": "scattermapbox"
           }
          ],
          "scatterpolar": [
           {
            "marker": {
             "colorbar": {
              "outlinewidth": 0,
              "ticks": ""
             }
            },
            "type": "scatterpolar"
           }
          ],
          "scatterpolargl": [
           {
            "marker": {
             "colorbar": {
              "outlinewidth": 0,
              "ticks": ""
             }
            },
            "type": "scatterpolargl"
           }
          ],
          "scatterternary": [
           {
            "marker": {
             "colorbar": {
              "outlinewidth": 0,
              "ticks": ""
             }
            },
            "type": "scatterternary"
           }
          ],
          "surface": [
           {
            "colorbar": {
             "outlinewidth": 0,
             "ticks": ""
            },
            "colorscale": [
             [
              0,
              "#0d0887"
             ],
             [
              0.1111111111111111,
              "#46039f"
             ],
             [
              0.2222222222222222,
              "#7201a8"
             ],
             [
              0.3333333333333333,
              "#9c179e"
             ],
             [
              0.4444444444444444,
              "#bd3786"
             ],
             [
              0.5555555555555556,
              "#d8576b"
             ],
             [
              0.6666666666666666,
              "#ed7953"
             ],
             [
              0.7777777777777778,
              "#fb9f3a"
             ],
             [
              0.8888888888888888,
              "#fdca26"
             ],
             [
              1,
              "#f0f921"
             ]
            ],
            "type": "surface"
           }
          ],
          "table": [
           {
            "cells": {
             "fill": {
              "color": "#EBF0F8"
             },
             "line": {
              "color": "white"
             }
            },
            "header": {
             "fill": {
              "color": "#C8D4E3"
             },
             "line": {
              "color": "white"
             }
            },
            "type": "table"
           }
          ]
         },
         "layout": {
          "annotationdefaults": {
           "arrowcolor": "#2a3f5f",
           "arrowhead": 0,
           "arrowwidth": 1
          },
          "colorscale": {
           "diverging": [
            [
             0,
             "#8e0152"
            ],
            [
             0.1,
             "#c51b7d"
            ],
            [
             0.2,
             "#de77ae"
            ],
            [
             0.3,
             "#f1b6da"
            ],
            [
             0.4,
             "#fde0ef"
            ],
            [
             0.5,
             "#f7f7f7"
            ],
            [
             0.6,
             "#e6f5d0"
            ],
            [
             0.7,
             "#b8e186"
            ],
            [
             0.8,
             "#7fbc41"
            ],
            [
             0.9,
             "#4d9221"
            ],
            [
             1,
             "#276419"
            ]
           ],
           "sequential": [
            [
             0,
             "#0d0887"
            ],
            [
             0.1111111111111111,
             "#46039f"
            ],
            [
             0.2222222222222222,
             "#7201a8"
            ],
            [
             0.3333333333333333,
             "#9c179e"
            ],
            [
             0.4444444444444444,
             "#bd3786"
            ],
            [
             0.5555555555555556,
             "#d8576b"
            ],
            [
             0.6666666666666666,
             "#ed7953"
            ],
            [
             0.7777777777777778,
             "#fb9f3a"
            ],
            [
             0.8888888888888888,
             "#fdca26"
            ],
            [
             1,
             "#f0f921"
            ]
           ],
           "sequentialminus": [
            [
             0,
             "#0d0887"
            ],
            [
             0.1111111111111111,
             "#46039f"
            ],
            [
             0.2222222222222222,
             "#7201a8"
            ],
            [
             0.3333333333333333,
             "#9c179e"
            ],
            [
             0.4444444444444444,
             "#bd3786"
            ],
            [
             0.5555555555555556,
             "#d8576b"
            ],
            [
             0.6666666666666666,
             "#ed7953"
            ],
            [
             0.7777777777777778,
             "#fb9f3a"
            ],
            [
             0.8888888888888888,
             "#fdca26"
            ],
            [
             1,
             "#f0f921"
            ]
           ]
          },
          "colorway": [
           "#636efa",
           "#EF553B",
           "#00cc96",
           "#ab63fa",
           "#FFA15A",
           "#19d3f3",
           "#FF6692",
           "#B6E880",
           "#FF97FF",
           "#FECB52"
          ],
          "font": {
           "color": "#2a3f5f"
          },
          "geo": {
           "bgcolor": "white",
           "lakecolor": "white",
           "landcolor": "#E5ECF6",
           "showlakes": true,
           "showland": true,
           "subunitcolor": "white"
          },
          "hoverlabel": {
           "align": "left"
          },
          "hovermode": "closest",
          "mapbox": {
           "style": "light"
          },
          "paper_bgcolor": "white",
          "plot_bgcolor": "#E5ECF6",
          "polar": {
           "angularaxis": {
            "gridcolor": "white",
            "linecolor": "white",
            "ticks": ""
           },
           "bgcolor": "#E5ECF6",
           "radialaxis": {
            "gridcolor": "white",
            "linecolor": "white",
            "ticks": ""
           }
          },
          "scene": {
           "xaxis": {
            "backgroundcolor": "#E5ECF6",
            "gridcolor": "white",
            "gridwidth": 2,
            "linecolor": "white",
            "showbackground": true,
            "ticks": "",
            "zerolinecolor": "white"
           },
           "yaxis": {
            "backgroundcolor": "#E5ECF6",
            "gridcolor": "white",
            "gridwidth": 2,
            "linecolor": "white",
            "showbackground": true,
            "ticks": "",
            "zerolinecolor": "white"
           },
           "zaxis": {
            "backgroundcolor": "#E5ECF6",
            "gridcolor": "white",
            "gridwidth": 2,
            "linecolor": "white",
            "showbackground": true,
            "ticks": "",
            "zerolinecolor": "white"
           }
          },
          "shapedefaults": {
           "line": {
            "color": "#2a3f5f"
           }
          },
          "ternary": {
           "aaxis": {
            "gridcolor": "white",
            "linecolor": "white",
            "ticks": ""
           },
           "baxis": {
            "gridcolor": "white",
            "linecolor": "white",
            "ticks": ""
           },
           "bgcolor": "#E5ECF6",
           "caxis": {
            "gridcolor": "white",
            "linecolor": "white",
            "ticks": ""
           }
          },
          "title": {
           "x": 0.05
          },
          "xaxis": {
           "automargin": true,
           "gridcolor": "white",
           "linecolor": "white",
           "ticks": "",
           "zerolinecolor": "white",
           "zerolinewidth": 2
          },
          "yaxis": {
           "automargin": true,
           "gridcolor": "white",
           "linecolor": "white",
           "ticks": "",
           "zerolinecolor": "white",
           "zerolinewidth": 2
          }
         }
        },
        "title": {
         "text": "Learning Curve"
        },
        "xaxis": {
         "title": {
          "text": "Number of training instances"
         }
        },
        "xaxis2": {
         "anchor": "y2",
         "domain": [
          0.55,
          1
         ]
        },
        "yaxis": {
         "title": {
          "text": "Accuracy"
         }
        },
        "yaxis2": {
         "anchor": "x2",
         "domain": [
          0,
          1
         ]
        }
       }
      },
      "text/html": [
       "<div>\n",
       "        \n",
       "        \n",
       "            <div id=\"5b959872-225f-4e3c-93ae-9dffc3f9730e\" class=\"plotly-graph-div\" style=\"height:525px; width:100%;\"></div>\n",
       "            <script type=\"text/javascript\">\n",
       "                require([\"plotly\"], function(Plotly) {\n",
       "                    window.PLOTLYENV=window.PLOTLYENV || {};\n",
       "                    \n",
       "                if (document.getElementById(\"5b959872-225f-4e3c-93ae-9dffc3f9730e\")) {\n",
       "                    Plotly.newPlot(\n",
       "                        '5b959872-225f-4e3c-93ae-9dffc3f9730e',\n",
       "                        [{\"line\": {\"color\": \"green\", \"width\": 1}, \"mode\": \"lines\", \"showlegend\": false, \"type\": \"scatter\", \"x\": [13, 43, 74, 104, 135], \"xaxis\": \"x\", \"y\": [0.3333333333333334, 0.3333333333333334, 0.6666666666666669, 0.9698887651569861, 1.0113880262166626], \"yaxis\": \"y\"}, {\"fill\": \"tonexty\", \"line\": {\"color\": \"green\", \"width\": 1}, \"mode\": \"lines\", \"showlegend\": false, \"type\": \"scatter\", \"x\": [13, 43, 74, 104, 135], \"xaxis\": \"x\", \"y\": [0.3333333333333333, 0.3333333333333333, 0.6666666666666666, 0.8701112348430142, 0.921945307116671], \"yaxis\": \"y\"}, {\"line\": {\"color\": \"red\", \"width\": 1}, \"mode\": \"lines\", \"showlegend\": false, \"type\": \"scatter\", \"x\": [13, 43, 74, 104, 135], \"xaxis\": \"x\", \"y\": [1.0, 1.0, 1.0, 0.989810696382147, 0.976146636274913], \"yaxis\": \"y\"}, {\"fill\": \"tonexty\", \"line\": {\"color\": \"red\", \"width\": 1}, \"mode\": \"lines\", \"showlegend\": false, \"type\": \"scatter\", \"x\": [13, 43, 74, 104, 135], \"xaxis\": \"x\", \"y\": [1.0, 1.0, 1.0, 0.9774969959255454, 0.9616311415028646], \"yaxis\": \"y\"}, {\"marker\": {\"color\": \"red\"}, \"name\": \"Training score\", \"showlegend\": true, \"type\": \"scatter\", \"x\": [13, 43, 74, 104, 135], \"xaxis\": \"x\", \"y\": [1.0, 1.0, 1.0, 0.9836538461538462, 0.9688888888888888], \"yaxis\": \"y\"}, {\"marker\": {\"color\": \"green\"}, \"name\": \"Cross-validation score\", \"showlegend\": true, \"type\": \"scatter\", \"x\": [13, 43, 74, 104, 135], \"xaxis\": \"x\", \"y\": [0.33333333333333337, 0.33333333333333337, 0.6666666666666667, 0.9200000000000002, 0.9666666666666668], \"yaxis\": \"y\"}, {\"line\": {\"color\": \"green\", \"width\": 1}, \"mode\": \"lines\", \"showlegend\": false, \"type\": \"scatter\", \"x\": [13, 43, 74, 104, 135], \"xaxis\": \"x2\", \"y\": [0.3333333333333334, 0.3333333333333334, 0.6666666666666669, 0.9698887651569861, 1.0113880262166626], \"yaxis\": \"y2\"}, {\"fill\": \"tonexty\", \"line\": {\"color\": \"green\", \"width\": 1}, \"mode\": \"lines\", \"showlegend\": false, \"type\": \"scatter\", \"x\": [13, 43, 74, 104, 135], \"xaxis\": \"x2\", \"y\": [0.3333333333333333, 0.3333333333333333, 0.6666666666666666, 0.8701112348430142, 0.921945307116671], \"yaxis\": \"y2\"}, {\"line\": {\"color\": \"red\", \"width\": 1}, \"mode\": \"lines\", \"showlegend\": false, \"type\": \"scatter\", \"x\": [13, 43, 74, 104, 135], \"xaxis\": \"x2\", \"y\": [1.0, 1.0, 1.0, 0.989810696382147, 0.976146636274913], \"yaxis\": \"y2\"}, {\"fill\": \"tonexty\", \"line\": {\"color\": \"red\", \"width\": 1}, \"mode\": \"lines\", \"showlegend\": false, \"type\": \"scatter\", \"x\": [13, 43, 74, 104, 135], \"xaxis\": \"x2\", \"y\": [1.0, 1.0, 1.0, 0.9774969959255454, 0.9616311415028646], \"yaxis\": \"y2\"}, {\"marker\": {\"color\": \"red\"}, \"name\": \"Training score\", \"showlegend\": false, \"type\": \"scatter\", \"x\": [13, 43, 74, 104, 135], \"xaxis\": \"x2\", \"y\": [1.0, 1.0, 1.0, 0.9836538461538462, 0.9688888888888888], \"yaxis\": \"y2\"}, {\"marker\": {\"color\": \"green\"}, \"name\": \"Cross-validation score\", \"showlegend\": false, \"type\": \"scatter\", \"x\": [13, 43, 74, 104, 135], \"xaxis\": \"x2\", \"y\": [0.33333333333333337, 0.33333333333333337, 0.6666666666666667, 0.9200000000000002, 0.9666666666666668], \"yaxis\": \"y2\"}],\n",
       "                        {\"annotations\": [{\"font\": {\"size\": 16}, \"showarrow\": false, \"text\": \"Learning Curves (Naive Bayes)\", \"x\": 0.225, \"xanchor\": \"center\", \"xref\": \"paper\", \"y\": 1.0, \"yanchor\": \"bottom\", \"yref\": \"paper\"}, {\"font\": {\"size\": 16}, \"showarrow\": false, \"text\": \"Learning Curves (SVM, RBF kernel, gamma=0.001)\", \"x\": 0.775, \"xanchor\": \"center\", \"xref\": \"paper\", \"y\": 1.0, \"yanchor\": \"bottom\", \"yref\": \"paper\"}], \"hovermode\": \"closest\", \"template\": {\"data\": {\"bar\": [{\"error_x\": {\"color\": \"#2a3f5f\"}, \"error_y\": {\"color\": \"#2a3f5f\"}, \"marker\": {\"line\": {\"color\": \"#E5ECF6\", \"width\": 0.5}}, \"type\": \"bar\"}], \"barpolar\": [{\"marker\": {\"line\": {\"color\": \"#E5ECF6\", \"width\": 0.5}}, \"type\": \"barpolar\"}], \"carpet\": [{\"aaxis\": {\"endlinecolor\": \"#2a3f5f\", \"gridcolor\": \"white\", \"linecolor\": \"white\", \"minorgridcolor\": \"white\", \"startlinecolor\": \"#2a3f5f\"}, \"baxis\": {\"endlinecolor\": \"#2a3f5f\", \"gridcolor\": \"white\", \"linecolor\": \"white\", \"minorgridcolor\": \"white\", \"startlinecolor\": \"#2a3f5f\"}, \"type\": \"carpet\"}], \"choropleth\": [{\"colorbar\": {\"outlinewidth\": 0, \"ticks\": \"\"}, \"type\": \"choropleth\"}], \"contour\": [{\"colorbar\": {\"outlinewidth\": 0, \"ticks\": \"\"}, \"colorscale\": [[0.0, \"#0d0887\"], [0.1111111111111111, \"#46039f\"], [0.2222222222222222, \"#7201a8\"], [0.3333333333333333, \"#9c179e\"], [0.4444444444444444, \"#bd3786\"], [0.5555555555555556, \"#d8576b\"], [0.6666666666666666, \"#ed7953\"], [0.7777777777777778, \"#fb9f3a\"], [0.8888888888888888, \"#fdca26\"], [1.0, \"#f0f921\"]], \"type\": \"contour\"}], \"contourcarpet\": [{\"colorbar\": {\"outlinewidth\": 0, \"ticks\": \"\"}, \"type\": \"contourcarpet\"}], \"heatmap\": [{\"colorbar\": {\"outlinewidth\": 0, \"ticks\": \"\"}, \"colorscale\": [[0.0, \"#0d0887\"], [0.1111111111111111, \"#46039f\"], [0.2222222222222222, \"#7201a8\"], [0.3333333333333333, \"#9c179e\"], [0.4444444444444444, \"#bd3786\"], [0.5555555555555556, \"#d8576b\"], [0.6666666666666666, \"#ed7953\"], [0.7777777777777778, \"#fb9f3a\"], [0.8888888888888888, \"#fdca26\"], [1.0, \"#f0f921\"]], \"type\": \"heatmap\"}], \"heatmapgl\": [{\"colorbar\": {\"outlinewidth\": 0, \"ticks\": \"\"}, \"colorscale\": [[0.0, \"#0d0887\"], [0.1111111111111111, \"#46039f\"], [0.2222222222222222, \"#7201a8\"], [0.3333333333333333, \"#9c179e\"], [0.4444444444444444, \"#bd3786\"], [0.5555555555555556, \"#d8576b\"], [0.6666666666666666, \"#ed7953\"], [0.7777777777777778, \"#fb9f3a\"], [0.8888888888888888, \"#fdca26\"], [1.0, \"#f0f921\"]], \"type\": \"heatmapgl\"}], \"histogram\": [{\"marker\": {\"colorbar\": {\"outlinewidth\": 0, \"ticks\": \"\"}}, \"type\": \"histogram\"}], \"histogram2d\": [{\"colorbar\": {\"outlinewidth\": 0, \"ticks\": \"\"}, \"colorscale\": [[0.0, \"#0d0887\"], [0.1111111111111111, \"#46039f\"], [0.2222222222222222, \"#7201a8\"], [0.3333333333333333, \"#9c179e\"], [0.4444444444444444, \"#bd3786\"], [0.5555555555555556, \"#d8576b\"], [0.6666666666666666, \"#ed7953\"], [0.7777777777777778, \"#fb9f3a\"], [0.8888888888888888, \"#fdca26\"], [1.0, \"#f0f921\"]], \"type\": \"histogram2d\"}], \"histogram2dcontour\": [{\"colorbar\": {\"outlinewidth\": 0, \"ticks\": \"\"}, \"colorscale\": [[0.0, \"#0d0887\"], [0.1111111111111111, \"#46039f\"], [0.2222222222222222, \"#7201a8\"], [0.3333333333333333, \"#9c179e\"], [0.4444444444444444, \"#bd3786\"], [0.5555555555555556, \"#d8576b\"], [0.6666666666666666, \"#ed7953\"], [0.7777777777777778, \"#fb9f3a\"], [0.8888888888888888, \"#fdca26\"], [1.0, \"#f0f921\"]], \"type\": \"histogram2dcontour\"}], \"mesh3d\": [{\"colorbar\": {\"outlinewidth\": 0, \"ticks\": \"\"}, \"type\": \"mesh3d\"}], \"parcoords\": [{\"line\": {\"colorbar\": {\"outlinewidth\": 0, \"ticks\": \"\"}}, \"type\": \"parcoords\"}], \"scatter\": [{\"marker\": {\"colorbar\": {\"outlinewidth\": 0, \"ticks\": \"\"}}, \"type\": \"scatter\"}], \"scatter3d\": [{\"line\": {\"colorbar\": {\"outlinewidth\": 0, \"ticks\": \"\"}}, \"marker\": {\"colorbar\": {\"outlinewidth\": 0, \"ticks\": \"\"}}, \"type\": \"scatter3d\"}], \"scattercarpet\": [{\"marker\": {\"colorbar\": {\"outlinewidth\": 0, \"ticks\": \"\"}}, \"type\": \"scattercarpet\"}], \"scattergeo\": [{\"marker\": {\"colorbar\": {\"outlinewidth\": 0, \"ticks\": \"\"}}, \"type\": \"scattergeo\"}], \"scattergl\": [{\"marker\": {\"colorbar\": {\"outlinewidth\": 0, \"ticks\": \"\"}}, \"type\": \"scattergl\"}], \"scattermapbox\": [{\"marker\": {\"colorbar\": {\"outlinewidth\": 0, \"ticks\": \"\"}}, \"type\": \"scattermapbox\"}], \"scatterpolar\": [{\"marker\": {\"colorbar\": {\"outlinewidth\": 0, \"ticks\": \"\"}}, \"type\": \"scatterpolar\"}], \"scatterpolargl\": [{\"marker\": {\"colorbar\": {\"outlinewidth\": 0, \"ticks\": \"\"}}, \"type\": \"scatterpolargl\"}], \"scatterternary\": [{\"marker\": {\"colorbar\": {\"outlinewidth\": 0, \"ticks\": \"\"}}, \"type\": \"scatterternary\"}], \"surface\": [{\"colorbar\": {\"outlinewidth\": 0, \"ticks\": \"\"}, \"colorscale\": [[0.0, \"#0d0887\"], [0.1111111111111111, \"#46039f\"], [0.2222222222222222, \"#7201a8\"], [0.3333333333333333, \"#9c179e\"], [0.4444444444444444, \"#bd3786\"], [0.5555555555555556, \"#d8576b\"], [0.6666666666666666, \"#ed7953\"], [0.7777777777777778, \"#fb9f3a\"], [0.8888888888888888, \"#fdca26\"], [1.0, \"#f0f921\"]], \"type\": \"surface\"}], \"table\": [{\"cells\": {\"fill\": {\"color\": \"#EBF0F8\"}, \"line\": {\"color\": \"white\"}}, \"header\": {\"fill\": {\"color\": \"#C8D4E3\"}, \"line\": {\"color\": \"white\"}}, \"type\": \"table\"}]}, \"layout\": {\"annotationdefaults\": {\"arrowcolor\": \"#2a3f5f\", \"arrowhead\": 0, \"arrowwidth\": 1}, \"colorscale\": {\"diverging\": [[0, \"#8e0152\"], [0.1, \"#c51b7d\"], [0.2, \"#de77ae\"], [0.3, \"#f1b6da\"], [0.4, \"#fde0ef\"], [0.5, \"#f7f7f7\"], [0.6, \"#e6f5d0\"], [0.7, \"#b8e186\"], [0.8, \"#7fbc41\"], [0.9, \"#4d9221\"], [1, \"#276419\"]], \"sequential\": [[0.0, \"#0d0887\"], [0.1111111111111111, \"#46039f\"], [0.2222222222222222, \"#7201a8\"], [0.3333333333333333, \"#9c179e\"], [0.4444444444444444, \"#bd3786\"], [0.5555555555555556, \"#d8576b\"], [0.6666666666666666, \"#ed7953\"], [0.7777777777777778, \"#fb9f3a\"], [0.8888888888888888, \"#fdca26\"], [1.0, \"#f0f921\"]], \"sequentialminus\": [[0.0, \"#0d0887\"], [0.1111111111111111, \"#46039f\"], [0.2222222222222222, \"#7201a8\"], [0.3333333333333333, \"#9c179e\"], [0.4444444444444444, \"#bd3786\"], [0.5555555555555556, \"#d8576b\"], [0.6666666666666666, \"#ed7953\"], [0.7777777777777778, \"#fb9f3a\"], [0.8888888888888888, \"#fdca26\"], [1.0, \"#f0f921\"]]}, \"colorway\": [\"#636efa\", \"#EF553B\", \"#00cc96\", \"#ab63fa\", \"#FFA15A\", \"#19d3f3\", \"#FF6692\", \"#B6E880\", \"#FF97FF\", \"#FECB52\"], \"font\": {\"color\": \"#2a3f5f\"}, \"geo\": {\"bgcolor\": \"white\", \"lakecolor\": \"white\", \"landcolor\": \"#E5ECF6\", \"showlakes\": true, \"showland\": true, \"subunitcolor\": \"white\"}, \"hoverlabel\": {\"align\": \"left\"}, \"hovermode\": \"closest\", \"mapbox\": {\"style\": \"light\"}, \"paper_bgcolor\": \"white\", \"plot_bgcolor\": \"#E5ECF6\", \"polar\": {\"angularaxis\": {\"gridcolor\": \"white\", \"linecolor\": \"white\", \"ticks\": \"\"}, \"bgcolor\": \"#E5ECF6\", \"radialaxis\": {\"gridcolor\": \"white\", \"linecolor\": \"white\", \"ticks\": \"\"}}, \"scene\": {\"xaxis\": {\"backgroundcolor\": \"#E5ECF6\", \"gridcolor\": \"white\", \"gridwidth\": 2, \"linecolor\": \"white\", \"showbackground\": true, \"ticks\": \"\", \"zerolinecolor\": \"white\"}, \"yaxis\": {\"backgroundcolor\": \"#E5ECF6\", \"gridcolor\": \"white\", \"gridwidth\": 2, \"linecolor\": \"white\", \"showbackground\": true, \"ticks\": \"\", \"zerolinecolor\": \"white\"}, \"zaxis\": {\"backgroundcolor\": \"#E5ECF6\", \"gridcolor\": \"white\", \"gridwidth\": 2, \"linecolor\": \"white\", \"showbackground\": true, \"ticks\": \"\", \"zerolinecolor\": \"white\"}}, \"shapedefaults\": {\"line\": {\"color\": \"#2a3f5f\"}}, \"ternary\": {\"aaxis\": {\"gridcolor\": \"white\", \"linecolor\": \"white\", \"ticks\": \"\"}, \"baxis\": {\"gridcolor\": \"white\", \"linecolor\": \"white\", \"ticks\": \"\"}, \"bgcolor\": \"#E5ECF6\", \"caxis\": {\"gridcolor\": \"white\", \"linecolor\": \"white\", \"ticks\": \"\"}}, \"title\": {\"x\": 0.05}, \"xaxis\": {\"automargin\": true, \"gridcolor\": \"white\", \"linecolor\": \"white\", \"ticks\": \"\", \"zerolinecolor\": \"white\", \"zerolinewidth\": 2}, \"yaxis\": {\"automargin\": true, \"gridcolor\": \"white\", \"linecolor\": \"white\", \"ticks\": \"\", \"zerolinecolor\": \"white\", \"zerolinewidth\": 2}}}, \"title\": {\"text\": \"Learning Curve\"}, \"xaxis\": {\"title\": {\"text\": \"Number of training instances\"}}, \"xaxis2\": {\"anchor\": \"y2\", \"domain\": [0.55, 1.0]}, \"yaxis\": {\"title\": {\"text\": \"Accuracy\"}}, \"yaxis2\": {\"anchor\": \"x2\", \"domain\": [0.0, 1.0]}},\n",
       "                        {\"responsive\": true}\n",
       "                    ).then(function(){\n",
       "                            \n",
       "var gd = document.getElementById('5b959872-225f-4e3c-93ae-9dffc3f9730e');\n",
       "var x = new MutationObserver(function (mutations, observer) {{\n",
       "        var display = window.getComputedStyle(gd).display;\n",
       "        if (!display || display === 'none') {{\n",
       "            console.log([gd, 'removed!']);\n",
       "            Plotly.purge(gd);\n",
       "            observer.disconnect();\n",
       "        }}\n",
       "}});\n",
       "\n",
       "// Listen for the removal of the full notebook cells\n",
       "var notebookContainer = gd.closest('#notebook-container');\n",
       "if (notebookContainer) {{\n",
       "    x.observe(notebookContainer, {childList: true});\n",
       "}}\n",
       "\n",
       "// Listen for the clearing of the current output cell\n",
       "var outputEl = gd.closest('.output');\n",
       "if (outputEl) {{\n",
       "    x.observe(outputEl, {childList: true});\n",
       "}}\n",
       "\n",
       "                        })\n",
       "                };\n",
       "                });\n",
       "            </script>\n",
       "        </div>"
      ]
     },
     "metadata": {},
     "output_type": "display_data"
    }
   ],
   "source": [
    "from sklearn import datasets\n",
    "import pandas as pd\n",
    "import numpy as np\n",
    "from plotly.subplots import make_subplots\n",
    "from sklearn.neighbors import KNeighborsClassifier\n",
    "from sklearn.model_selection import cross_val_predict \n",
    "\n",
    "X, y = datasets.load_iris(return_X_y = True)\n",
    "iris = datasets.load_iris()\n",
    "knn_clf = KNeighborsClassifier(n_jobs=1)\n",
    "y_train_pred = cross_val_predict(knn_clf, iris.data, iris.target, cv = 3, n_jobs=1)\n",
    "\n",
    "fig = subplots.make_subplots(rows=1, cols=2,\n",
    "  subplot_titles=(\"Learning Curves (Naive Bayes)\",\n",
    "  \"Learning Curves (SVM, RBF kernel, gamma=0.001)\"),\n",
    "                            )\n",
    "plot_learning_curve( knn_clf, iris.data, iris.target, 1, cv = 10, n_jobs =1)\n",
    "plot_learning_curve( knn_clf, iris.data, iris.target, 2, cv = 10, n_jobs =1)\n",
    "fig['layout'].update(hovermode='closest')\n",
    "fig.show()\n",
    "#py.iplot(fig)"
   ]
  },
  {
   "cell_type": "code",
   "execution_count": 9,
   "metadata": {},
   "outputs": [
    {
     "name": "stdout",
     "output_type": "stream",
     "text": [
      "0.9774999999999998\n",
      "0.9525\n",
      "0.9424999999999999\n",
      "0.9275\n",
      "0.96\n",
      "0.9666666666666668\n",
      "0.9466666666666667\n",
      "0.9400000000000001\n",
      "0.9409090909090908\n",
      "0.9772727272727273\n",
      "0.9454545454545455\n",
      "0.9363636363636363\n"
     ]
    }
   ],
   "source": [
    "from sklearn import datasets\n",
    "import pandas as pd\n",
    "import numpy as np\n",
    "from plotly.subplots import make_subplots\n",
    "from sklearn.neighbors import KNeighborsClassifier\n",
    "from sklearn.model_selection import cross_val_predict, cross_val_score, StratifiedKFold\n",
    "\n",
    "df1 = pd.read_csv('exp1a.csv')\n",
    "df2 = pd.read_csv('exp1b.csv')\n",
    "df3 = pd.read_csv('exp1c.csv')\n",
    "\n",
    "\n",
    "for df in [df1, df2, df3]:\n",
    "    data = df.drop('class', axis = 1)\n",
    "    target = df['class']\n",
    "    target.replace(-1, 0, inplace = True)\n",
    "\n",
    "    for k in [1, 5, 11, 21]:\n",
    "        clf = KNeighborsClassifier(\n",
    "            n_neighbors = k, # number of neighbors\n",
    "            #weights = 'distance', # weight function used in prediction\n",
    "            n_jobs=1)\n",
    "        cvals = cross_val_score(clf, data, target, cv = 10, scoring = 'accuracy')\n",
    "        prediction = cross_val_predict(clf, data, target, cv = 10)\n",
    "        print( np.mean(cvals))"
   ]
  },
  {
   "cell_type": "code",
   "execution_count": null,
   "metadata": {},
   "outputs": [],
   "source": []
  }
 ],
 "metadata": {
  "kernelspec": {
   "display_name": "Python 3",
   "language": "python",
   "name": "python3"
  },
  "language_info": {
   "codemirror_mode": {
    "name": "ipython",
    "version": 3
   },
   "file_extension": ".py",
   "mimetype": "text/x-python",
   "name": "python",
   "nbconvert_exporter": "python",
   "pygments_lexer": "ipython3",
   "version": "3.7.3"
  }
 },
 "nbformat": 4,
 "nbformat_minor": 2
}
